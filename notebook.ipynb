{
 "cells": [
  {
   "attachments": {},
   "cell_type": "markdown",
   "metadata": {},
   "source": [
    "\n",
    "### 1) Data Collection\n",
    "- Dataset Source - https://data.gov.il/dataset/satisfaction-hosp-general2016\n",
    "- Raw data contains many rows that are not useful so i created a new one 'modified' by deleting the few columns\n",
    "- The data consists of 48 column and 11099 rows."
   ]
  },
  {
   "attachments": {},
   "cell_type": "markdown",
   "metadata": {},
   "source": [
    "### 2.1 Import Data and Required Packages\n",
    "####  Importing Pandas, Numpy, Matplotlib, Seaborn and Warings Library."
   ]
  },
  {
   "cell_type": "code",
   "execution_count": 1,
   "metadata": {},
   "outputs": [],
   "source": [
    "import numpy as np\n",
    "import pandas as pd\n",
    "import seaborn as sns\n",
    "import matplotlib.pyplot as plt\n",
    "%matplotlib inline\n",
    "import warnings\n",
    "warnings.filterwarnings('ignore')"
   ]
  },
  {
   "cell_type": "code",
   "execution_count": 2,
   "metadata": {},
   "outputs": [],
   "source": [
    "df = pd.read_excel('satisfaction-hosp-general2016.xls', sheet_name='modified')"
   ]
  },
  {
   "cell_type": "code",
   "execution_count": 79,
   "metadata": {},
   "outputs": [],
   "source": [
    "# Load the variables definition in one variable\n",
    "var_df = pd.read_excel('satisfaction-hosp-general2016.xls', sheet_name='columns')"
   ]
  },
  {
   "cell_type": "code",
   "execution_count": 77,
   "metadata": {},
   "outputs": [],
   "source": [
    "# Load the values meaning in another variable\n",
    "val_df = pd.read_excel('satisfaction-hosp-general2016.xls', sheet_name='values')"
   ]
  },
  {
   "attachments": {},
   "cell_type": "markdown",
   "metadata": {},
   "source": [
    "#### Show Top 5 Records"
   ]
  },
  {
   "cell_type": "code",
   "execution_count": 4,
   "metadata": {},
   "outputs": [
    {
     "data": {
      "text/html": [
       "<div>\n",
       "<style scoped>\n",
       "    .dataframe tbody tr th:only-of-type {\n",
       "        vertical-align: middle;\n",
       "    }\n",
       "\n",
       "    .dataframe tbody tr th {\n",
       "        vertical-align: top;\n",
       "    }\n",
       "\n",
       "    .dataframe thead th {\n",
       "        text-align: right;\n",
       "    }\n",
       "</style>\n",
       "<table border=\"1\" class=\"dataframe\">\n",
       "  <thead>\n",
       "    <tr style=\"text-align: right;\">\n",
       "      <th></th>\n",
       "      <th>id</th>\n",
       "      <th>code_hospital</th>\n",
       "      <th>Gender</th>\n",
       "      <th>Code_ward</th>\n",
       "      <th>SIZE_new</th>\n",
       "      <th>Miyun_or_Electiv</th>\n",
       "      <th>CHOICE</th>\n",
       "      <th>corridor1</th>\n",
       "      <th>CHRONIC_2</th>\n",
       "      <th>HEALTH_STATUS</th>\n",
       "      <th>...</th>\n",
       "      <th>Q30</th>\n",
       "      <th>Q33</th>\n",
       "      <th>Q34</th>\n",
       "      <th>Q36</th>\n",
       "      <th>Q37</th>\n",
       "      <th>Q3_G</th>\n",
       "      <th>q31_G</th>\n",
       "      <th>AGE_TODAY</th>\n",
       "      <th>KUPAT_HOLIM</th>\n",
       "      <th>baalut</th>\n",
       "    </tr>\n",
       "  </thead>\n",
       "  <tbody>\n",
       "    <tr>\n",
       "      <th>0</th>\n",
       "      <td>600001</td>\n",
       "      <td>1.0</td>\n",
       "      <td>נקבה</td>\n",
       "      <td>1</td>\n",
       "      <td>3</td>\n",
       "      <td>1.0</td>\n",
       "      <td>3</td>\n",
       "      <td>1</td>\n",
       "      <td>1.0</td>\n",
       "      <td>5.0</td>\n",
       "      <td>...</td>\n",
       "      <td>99</td>\n",
       "      <td>99</td>\n",
       "      <td>3</td>\n",
       "      <td>1</td>\n",
       "      <td>6</td>\n",
       "      <td>1.0</td>\n",
       "      <td>NaN</td>\n",
       "      <td>66</td>\n",
       "      <td>1.0</td>\n",
       "      <td>1</td>\n",
       "    </tr>\n",
       "    <tr>\n",
       "      <th>1</th>\n",
       "      <td>600002</td>\n",
       "      <td>1.0</td>\n",
       "      <td>נקבה</td>\n",
       "      <td>2</td>\n",
       "      <td>3</td>\n",
       "      <td>0.0</td>\n",
       "      <td>3</td>\n",
       "      <td>0</td>\n",
       "      <td>1.0</td>\n",
       "      <td>5.0</td>\n",
       "      <td>...</td>\n",
       "      <td>2</td>\n",
       "      <td>99</td>\n",
       "      <td>1</td>\n",
       "      <td>2</td>\n",
       "      <td>6</td>\n",
       "      <td>1.0</td>\n",
       "      <td>1.0</td>\n",
       "      <td>69</td>\n",
       "      <td>4.0</td>\n",
       "      <td>1</td>\n",
       "    </tr>\n",
       "    <tr>\n",
       "      <th>2</th>\n",
       "      <td>600003</td>\n",
       "      <td>1.0</td>\n",
       "      <td>זכר</td>\n",
       "      <td>2</td>\n",
       "      <td>3</td>\n",
       "      <td>1.0</td>\n",
       "      <td>0</td>\n",
       "      <td>0</td>\n",
       "      <td>1.0</td>\n",
       "      <td>5.0</td>\n",
       "      <td>...</td>\n",
       "      <td>5</td>\n",
       "      <td>3</td>\n",
       "      <td>1</td>\n",
       "      <td>6</td>\n",
       "      <td>6</td>\n",
       "      <td>0.0</td>\n",
       "      <td>0.0</td>\n",
       "      <td>26</td>\n",
       "      <td>1.0</td>\n",
       "      <td>1</td>\n",
       "    </tr>\n",
       "    <tr>\n",
       "      <th>3</th>\n",
       "      <td>600004</td>\n",
       "      <td>1.0</td>\n",
       "      <td>נקבה</td>\n",
       "      <td>2</td>\n",
       "      <td>3</td>\n",
       "      <td>0.0</td>\n",
       "      <td>1</td>\n",
       "      <td>1</td>\n",
       "      <td>1.0</td>\n",
       "      <td>2.0</td>\n",
       "      <td>...</td>\n",
       "      <td>1</td>\n",
       "      <td>3</td>\n",
       "      <td>3</td>\n",
       "      <td>2</td>\n",
       "      <td>6</td>\n",
       "      <td>1.0</td>\n",
       "      <td>1.0</td>\n",
       "      <td>70</td>\n",
       "      <td>2.0</td>\n",
       "      <td>1</td>\n",
       "    </tr>\n",
       "    <tr>\n",
       "      <th>4</th>\n",
       "      <td>600005</td>\n",
       "      <td>1.0</td>\n",
       "      <td>זכר</td>\n",
       "      <td>2</td>\n",
       "      <td>3</td>\n",
       "      <td>0.0</td>\n",
       "      <td>1</td>\n",
       "      <td>1</td>\n",
       "      <td>0.0</td>\n",
       "      <td>NaN</td>\n",
       "      <td>...</td>\n",
       "      <td>2</td>\n",
       "      <td>1</td>\n",
       "      <td>3</td>\n",
       "      <td>7</td>\n",
       "      <td>6</td>\n",
       "      <td>1.0</td>\n",
       "      <td>1.0</td>\n",
       "      <td>59</td>\n",
       "      <td>4.0</td>\n",
       "      <td>1</td>\n",
       "    </tr>\n",
       "  </tbody>\n",
       "</table>\n",
       "<p>5 rows × 48 columns</p>\n",
       "</div>"
      ],
      "text/plain": [
       "       id  code_hospital Gender  Code_ward  SIZE_new  Miyun_or_Electiv  \\\n",
       "0  600001            1.0   נקבה          1         3               1.0   \n",
       "1  600002            1.0   נקבה          2         3               0.0   \n",
       "2  600003            1.0    זכר          2         3               1.0   \n",
       "3  600004            1.0   נקבה          2         3               0.0   \n",
       "4  600005            1.0    זכר          2         3               0.0   \n",
       "\n",
       "   CHOICE  corridor1  CHRONIC_2  HEALTH_STATUS  ...  Q30  Q33  Q34  Q36  Q37  \\\n",
       "0       3          1        1.0            5.0  ...   99   99    3    1    6   \n",
       "1       3          0        1.0            5.0  ...    2   99    1    2    6   \n",
       "2       0          0        1.0            5.0  ...    5    3    1    6    6   \n",
       "3       1          1        1.0            2.0  ...    1    3    3    2    6   \n",
       "4       1          1        0.0            NaN  ...    2    1    3    7    6   \n",
       "\n",
       "   Q3_G  q31_G  AGE_TODAY  KUPAT_HOLIM  baalut  \n",
       "0   1.0    NaN         66          1.0       1  \n",
       "1   1.0    1.0         69          4.0       1  \n",
       "2   0.0    0.0         26          1.0       1  \n",
       "3   1.0    1.0         70          2.0       1  \n",
       "4   1.0    1.0         59          4.0       1  \n",
       "\n",
       "[5 rows x 48 columns]"
      ]
     },
     "execution_count": 4,
     "metadata": {},
     "output_type": "execute_result"
    }
   ],
   "source": [
    "df.head()"
   ]
  },
  {
   "attachments": {},
   "cell_type": "markdown",
   "metadata": {},
   "source": [
    "#### Shape of the dataset"
   ]
  },
  {
   "cell_type": "code",
   "execution_count": 5,
   "metadata": {},
   "outputs": [
    {
     "data": {
      "text/plain": [
       "(11099, 48)"
      ]
     },
     "execution_count": 5,
     "metadata": {},
     "output_type": "execute_result"
    }
   ],
   "source": [
    "df.shape"
   ]
  },
  {
   "attachments": {},
   "cell_type": "markdown",
   "metadata": {},
   "source": [
    "### 2.2 Dataset information"
   ]
  },
  {
   "attachments": {},
   "cell_type": "markdown",
   "metadata": {},
   "source": [
    " - id : id of patient\n",
    " - code_hospital : unique code for each Hospital \n",
    " - Gender : sex -> (Male/Female)\n",
    " - Code_ward : ward of the patient -> (internal_affairs/Surgeries/Everything_else)\n",
    " - SIZE_new : size of the hospital -> (Small/Medium/Large)\n",
    " - Miyun_or_Electiv : (Hospitalization_through_emergency_department/Elective_hospital)\n",
    " - CHOICE : choice given to patient -> (not/given)\n",
    " - corridor1 : Lie in the corridor -> (Lie/not_lie)\n",
    " - CHRONIC_2 : Chronic diseases -> (yes/no)\n",
    " - HEALTH_STATUS : (excellent/very_good/good/likely/bad)\n",
    " - AGE_TODAY :(18-34/35-64/65+)\n",
    " - KUPAT_HOLIM : (general/National/united/Maccabi/other)\n",
    " - baalut : (governmental/general/Hadassah/mission)\n",
    " - Q.... -> questions"
   ]
  },
  {
   "cell_type": "code",
   "execution_count": 6,
   "metadata": {},
   "outputs": [
    {
     "data": {
      "text/plain": [
       "Index(['id', 'code_hospital', 'Gender', 'Code_ward', 'SIZE_new',\n",
       "       'Miyun_or_Electiv', 'CHOICE', 'corridor1', 'CHRONIC_2', 'HEALTH_STATUS',\n",
       "       'Q3', 'Q31', 'Q4', 'Q5', 'Q6', 'Q7', 'Q8', 'Q9', 'Q10', 'Q11', 'Q12',\n",
       "       'Q13', 'Q14', 'Q15', 'Q16', 'Q17', 'Q18', 'Q19', 'Q20', 'Q21_2016',\n",
       "       'Q22', 'Q23', 'Q24', 'Q25', 'Q26', 'Q27', 'Q28', 'Q29', 'Q30', 'Q33',\n",
       "       'Q34', 'Q36', 'Q37', 'Q3_G', 'q31_G', 'AGE_TODAY', 'KUPAT_HOLIM',\n",
       "       'baalut'],\n",
       "      dtype='object')"
      ]
     },
     "execution_count": 6,
     "metadata": {},
     "output_type": "execute_result"
    }
   ],
   "source": [
    "df.columns"
   ]
  },
  {
   "attachments": {},
   "cell_type": "markdown",
   "metadata": {},
   "source": [
    "### 3. Data Checks to perform\n",
    "\n",
    "- Check Missing values\n",
    "- Check Duplicates\n",
    "- Check data type\n",
    "- Check the number of unique values of each column\n",
    "- Check statistics of data set\n",
    "- Check various categories present in the different categorical column"
   ]
  },
  {
   "cell_type": "code",
   "execution_count": 7,
   "metadata": {},
   "outputs": [],
   "source": [
    "#Id is not required\n",
    "df.drop(axis=1, columns=['id'], inplace=True)"
   ]
  },
  {
   "attachments": {},
   "cell_type": "markdown",
   "metadata": {},
   "source": [
    "###### we must ignore the null values of questions because the null value in questions represent one answers"
   ]
  },
  {
   "cell_type": "code",
   "execution_count": 8,
   "metadata": {},
   "outputs": [],
   "source": [
    "Questions_col = []\n",
    "for column in df.columns:\n",
    "    if column[0]=='Q' or column[0]=='q':\n",
    "        Questions_col.append(column)"
   ]
  },
  {
   "cell_type": "code",
   "execution_count": 9,
   "metadata": {},
   "outputs": [],
   "source": [
    "# Store the questions in another dataframe\n",
    "df_qns = df[[val for val in Questions_col]]"
   ]
  },
  {
   "cell_type": "code",
   "execution_count": 10,
   "metadata": {},
   "outputs": [],
   "source": [
    "# Drop the questions columns \n",
    "df.drop(axis=1, columns=[val for val in Questions_col], inplace=True)"
   ]
  },
  {
   "attachments": {},
   "cell_type": "markdown",
   "metadata": {},
   "source": [
    "### 3.1 Check Missing values"
   ]
  },
  {
   "cell_type": "code",
   "execution_count": 11,
   "metadata": {},
   "outputs": [
    {
     "data": {
      "text/plain": [
       "code_hospital         0\n",
       "Gender                0\n",
       "Code_ward             0\n",
       "SIZE_new              0\n",
       "Miyun_or_Electiv     26\n",
       "CHOICE                0\n",
       "corridor1             0\n",
       "CHRONIC_2           252\n",
       "HEALTH_STATUS       228\n",
       "AGE_TODAY             0\n",
       "KUPAT_HOLIM          23\n",
       "baalut                0\n",
       "dtype: int64"
      ]
     },
     "execution_count": 11,
     "metadata": {},
     "output_type": "execute_result"
    }
   ],
   "source": [
    "df.isna().sum()"
   ]
  },
  {
   "cell_type": "code",
   "execution_count": 12,
   "metadata": {},
   "outputs": [],
   "source": [
    "## Here we will check the percentage of nan values present in each feature\n",
    "## 1 -step make the list of features which has missing values\n",
    "feature_with_na = [features for features in df.columns if df[features].isnull().sum()>1]"
   ]
  },
  {
   "cell_type": "code",
   "execution_count": 13,
   "metadata": {},
   "outputs": [
    {
     "name": "stdout",
     "output_type": "stream",
     "text": [
      "Miyun_or_Electiv column has 26 null values.\n",
      "CHRONIC_2 column has 252 null values.\n",
      "HEALTH_STATUS column has 228 null values.\n",
      "KUPAT_HOLIM column has 23 null values.\n"
     ]
    }
   ],
   "source": [
    "## 2- step print the feature name and the percentage of missing values\n",
    "for feature in feature_with_na:\n",
    "    print(f\"{feature} column has {df[feature].isnull().sum()} null values.\")"
   ]
  },
  {
   "cell_type": "code",
   "execution_count": 14,
   "metadata": {},
   "outputs": [
    {
     "name": "stdout",
     "output_type": "stream",
     "text": [
      "Unique values in Miyun_or_Electiv are : [ 1.  0. nan]\n",
      "Unique values in CHRONIC_2 are : [ 1.  0. nan]\n",
      "Unique values in HEALTH_STATUS are : [ 5.  2. nan  3.  4.  1.]\n",
      "Unique values in KUPAT_HOLIM are : [ 1.  4.  2.  3.  5. nan]\n"
     ]
    }
   ],
   "source": [
    "for feature in feature_with_na:\n",
    "    print(f\"Unique values in {feature} are : {df[feature].unique()}\")"
   ]
  },
  {
   "cell_type": "code",
   "execution_count": 15,
   "metadata": {},
   "outputs": [
    {
     "data": {
      "text/plain": [
       "['Miyun_or_Electiv', 'CHRONIC_2', 'HEALTH_STATUS', 'KUPAT_HOLIM']"
      ]
     },
     "execution_count": 15,
     "metadata": {},
     "output_type": "execute_result"
    }
   ],
   "source": [
    "feature_with_na"
   ]
  },
  {
   "cell_type": "code",
   "execution_count": 16,
   "metadata": {},
   "outputs": [
    {
     "name": "stdout",
     "output_type": "stream",
     "text": [
      "0    1.0\n",
      "Name: Miyun_or_Electiv, dtype: float64\n",
      "0    1.0\n",
      "Name: CHRONIC_2, dtype: float64\n",
      "0    4.0\n",
      "Name: HEALTH_STATUS, dtype: float64\n",
      "0    1.0\n",
      "Name: KUPAT_HOLIM, dtype: float64\n"
     ]
    }
   ],
   "source": [
    "print(df['Miyun_or_Electiv'].mode())\n",
    "print(df['CHRONIC_2'].mode())\n",
    "print(df['HEALTH_STATUS'].mode())\n",
    "print(df['KUPAT_HOLIM'].mode())"
   ]
  },
  {
   "cell_type": "code",
   "execution_count": 17,
   "metadata": {},
   "outputs": [],
   "source": [
    "# for feature in feature_with_na:\n",
    "#     df[feature].fillna(df[feature].mode(), inplace=True) \n",
    "df['Miyun_or_Electiv'].fillna(0, inplace=True)\n",
    "df['CHRONIC_2'].fillna(0, inplace=True)\n",
    "df['HEALTH_STATUS'].fillna(df['HEALTH_STATUS'].mode(), inplace=True)\n",
    "df['KUPAT_HOLIM'].fillna(5, inplace=True)"
   ]
  },
  {
   "cell_type": "code",
   "execution_count": 18,
   "metadata": {},
   "outputs": [
    {
     "name": "stdout",
     "output_type": "stream",
     "text": [
      "No. of NaN values after cleaning : 228\n"
     ]
    }
   ],
   "source": [
    "print(f\"No. of NaN values after cleaning : {df.isnull().sum().sum()}\")"
   ]
  },
  {
   "attachments": {},
   "cell_type": "markdown",
   "metadata": {},
   "source": [
    "###### It looks like the HEALTH_STATUS column contains NaN values. \n",
    "###### Still there is NaN values. But how ?\n",
    "###### is the mode working?"
   ]
  },
  {
   "cell_type": "code",
   "execution_count": 19,
   "metadata": {},
   "outputs": [
    {
     "data": {
      "text/plain": [
       "0    4.0\n",
       "Name: HEALTH_STATUS, dtype: float64"
      ]
     },
     "execution_count": 19,
     "metadata": {},
     "output_type": "execute_result"
    }
   ],
   "source": [
    "df['HEALTH_STATUS'].mode()"
   ]
  },
  {
   "attachments": {},
   "cell_type": "markdown",
   "metadata": {},
   "source": [
    "###### Yes, it is working but it gives column with index value. so we have to use the 1st index"
   ]
  },
  {
   "cell_type": "code",
   "execution_count": 20,
   "metadata": {},
   "outputs": [],
   "source": [
    "df['HEALTH_STATUS'].fillna(df['HEALTH_STATUS'].mode()[0], inplace=True)"
   ]
  },
  {
   "cell_type": "code",
   "execution_count": 21,
   "metadata": {},
   "outputs": [
    {
     "name": "stdout",
     "output_type": "stream",
     "text": [
      "No. of NaN values after cleaning : 0\n"
     ]
    }
   ],
   "source": [
    "print(f\"No. of NaN values after cleaning : {df.isnull().sum().sum()}\")"
   ]
  },
  {
   "attachments": {},
   "cell_type": "markdown",
   "metadata": {},
   "source": [
    "#### There are no missing values in the data set"
   ]
  },
  {
   "attachments": {},
   "cell_type": "markdown",
   "metadata": {},
   "source": [
    "### 3.2 Check Duplicates"
   ]
  },
  {
   "cell_type": "code",
   "execution_count": 22,
   "metadata": {},
   "outputs": [
    {
     "data": {
      "text/plain": [
       "183"
      ]
     },
     "execution_count": 22,
     "metadata": {},
     "output_type": "execute_result"
    }
   ],
   "source": [
    "df.duplicated().sum()"
   ]
  },
  {
   "cell_type": "code",
   "execution_count": 23,
   "metadata": {},
   "outputs": [],
   "source": [
    "# droping the duplicate values from both the questions and normal dataframes\n",
    "df_qns.drop(axis=0, index=df[df.duplicated()].index, inplace=True)\n",
    "df.drop_duplicates(inplace=True)"
   ]
  },
  {
   "attachments": {},
   "cell_type": "markdown",
   "metadata": {},
   "source": [
    "#### There are no more duplicates  values in the data set"
   ]
  },
  {
   "attachments": {},
   "cell_type": "markdown",
   "metadata": {},
   "source": [
    "### 3.3 Check data types"
   ]
  },
  {
   "cell_type": "code",
   "execution_count": 24,
   "metadata": {},
   "outputs": [
    {
     "name": "stdout",
     "output_type": "stream",
     "text": [
      "<class 'pandas.core.frame.DataFrame'>\n",
      "Int64Index: 10916 entries, 0 to 11098\n",
      "Data columns (total 12 columns):\n",
      " #   Column            Non-Null Count  Dtype  \n",
      "---  ------            --------------  -----  \n",
      " 0   code_hospital     10916 non-null  float64\n",
      " 1   Gender            10916 non-null  object \n",
      " 2   Code_ward         10916 non-null  int64  \n",
      " 3   SIZE_new          10916 non-null  int64  \n",
      " 4   Miyun_or_Electiv  10916 non-null  float64\n",
      " 5   CHOICE            10916 non-null  int64  \n",
      " 6   corridor1         10916 non-null  int64  \n",
      " 7   CHRONIC_2         10916 non-null  float64\n",
      " 8   HEALTH_STATUS     10916 non-null  float64\n",
      " 9   AGE_TODAY         10916 non-null  int64  \n",
      " 10  KUPAT_HOLIM       10916 non-null  float64\n",
      " 11  baalut            10916 non-null  int64  \n",
      "dtypes: float64(5), int64(6), object(1)\n",
      "memory usage: 1.1+ MB\n"
     ]
    }
   ],
   "source": [
    "df.info()"
   ]
  },
  {
   "attachments": {},
   "cell_type": "markdown",
   "metadata": {},
   "source": [
    "### 3.4 Checking the number of unique values of each column"
   ]
  },
  {
   "cell_type": "code",
   "execution_count": 25,
   "metadata": {},
   "outputs": [
    {
     "data": {
      "text/plain": [
       "code_hospital       23\n",
       "Gender               2\n",
       "Code_ward            3\n",
       "SIZE_new             3\n",
       "Miyun_or_Electiv     2\n",
       "CHOICE               3\n",
       "corridor1            2\n",
       "CHRONIC_2            2\n",
       "HEALTH_STATUS        5\n",
       "AGE_TODAY           83\n",
       "KUPAT_HOLIM          5\n",
       "baalut               4\n",
       "dtype: int64"
      ]
     },
     "execution_count": 25,
     "metadata": {},
     "output_type": "execute_result"
    }
   ],
   "source": [
    "df.nunique()"
   ]
  },
  {
   "cell_type": "code",
   "execution_count": 26,
   "metadata": {},
   "outputs": [
    {
     "name": "stdout",
     "output_type": "stream",
     "text": [
      "Unique Values in code_hospital Column are : [ 1.   2.   3.   4.   5.   6.   8.   9.  10.  11.  12.  13.  14.  15.\n",
      " 16.  17.  19.  20.  23.  24.   2.7  7.  26. ]\n",
      "Unique Values in Gender Column are : ['נקבה' 'זכר']\n",
      "Unique Values in Code_ward Column are : [1 2 3]\n",
      "Unique Values in SIZE_new Column are : [3 2 1]\n",
      "Unique Values in Miyun_or_Electiv Column are : [1. 0.]\n",
      "Unique Values in CHOICE Column are : [3 0 1]\n",
      "Unique Values in corridor1 Column are : [1 0]\n",
      "Unique Values in CHRONIC_2 Column are : [1. 0.]\n",
      "Unique Values in HEALTH_STATUS Column are : [5. 2. 4. 3. 1.]\n",
      "Unique Values in AGE_TODAY Column are : [ 66  69  26  70  59  34  71  79  77  76  40  31  73  83  42  61  81  56\n",
      "  44  23  67  46  21  92  29  60  28  36  55  58  80  37  75  63  48  64\n",
      "  53  85  74  22  82  57  62  32  78  43  47  45  89  41  54  68  39  65\n",
      "  51  84  52  49  87  72  19  50  86  88  35  25  18  24  91  96  20  30\n",
      "  33  27  38  94  90  93  95 103 111  98  99]\n",
      "Unique Values in KUPAT_HOLIM Column are : [1. 4. 2. 3. 5.]\n",
      "Unique Values in baalut Column are : [1 2 3 5]\n"
     ]
    }
   ],
   "source": [
    "for column in df:\n",
    "    print(f\"Unique Values in {column} Column are : {df[column].unique()}\")"
   ]
  },
  {
   "attachments": {},
   "cell_type": "markdown",
   "metadata": {},
   "source": [
    "### 3.5 Check statistics of data set"
   ]
  },
  {
   "cell_type": "code",
   "execution_count": 27,
   "metadata": {},
   "outputs": [
    {
     "data": {
      "text/html": [
       "<div>\n",
       "<style scoped>\n",
       "    .dataframe tbody tr th:only-of-type {\n",
       "        vertical-align: middle;\n",
       "    }\n",
       "\n",
       "    .dataframe tbody tr th {\n",
       "        vertical-align: top;\n",
       "    }\n",
       "\n",
       "    .dataframe thead th {\n",
       "        text-align: right;\n",
       "    }\n",
       "</style>\n",
       "<table border=\"1\" class=\"dataframe\">\n",
       "  <thead>\n",
       "    <tr style=\"text-align: right;\">\n",
       "      <th></th>\n",
       "      <th>code_hospital</th>\n",
       "      <th>Code_ward</th>\n",
       "      <th>SIZE_new</th>\n",
       "      <th>Miyun_or_Electiv</th>\n",
       "      <th>CHOICE</th>\n",
       "      <th>corridor1</th>\n",
       "      <th>CHRONIC_2</th>\n",
       "      <th>HEALTH_STATUS</th>\n",
       "      <th>AGE_TODAY</th>\n",
       "      <th>KUPAT_HOLIM</th>\n",
       "      <th>baalut</th>\n",
       "    </tr>\n",
       "  </thead>\n",
       "  <tbody>\n",
       "    <tr>\n",
       "      <th>count</th>\n",
       "      <td>10916.000000</td>\n",
       "      <td>10916.000000</td>\n",
       "      <td>10916.000000</td>\n",
       "      <td>10916.000000</td>\n",
       "      <td>10916.000000</td>\n",
       "      <td>10916.000000</td>\n",
       "      <td>10916.000000</td>\n",
       "      <td>10916.000000</td>\n",
       "      <td>10916.000000</td>\n",
       "      <td>10916.000000</td>\n",
       "      <td>10916.000000</td>\n",
       "    </tr>\n",
       "    <tr>\n",
       "      <th>mean</th>\n",
       "      <td>10.796152</td>\n",
       "      <td>1.779040</td>\n",
       "      <td>2.021894</td>\n",
       "      <td>0.664987</td>\n",
       "      <td>0.879168</td>\n",
       "      <td>0.896299</td>\n",
       "      <td>0.496977</td>\n",
       "      <td>3.327501</td>\n",
       "      <td>57.784628</td>\n",
       "      <td>1.899872</td>\n",
       "      <td>1.831898</td>\n",
       "    </tr>\n",
       "    <tr>\n",
       "      <th>std</th>\n",
       "      <td>6.743416</td>\n",
       "      <td>0.736276</td>\n",
       "      <td>0.661746</td>\n",
       "      <td>0.472017</td>\n",
       "      <td>0.879221</td>\n",
       "      <td>0.304886</td>\n",
       "      <td>0.500014</td>\n",
       "      <td>1.259037</td>\n",
       "      <td>17.988378</td>\n",
       "      <td>1.269883</td>\n",
       "      <td>1.164466</td>\n",
       "    </tr>\n",
       "    <tr>\n",
       "      <th>min</th>\n",
       "      <td>1.000000</td>\n",
       "      <td>1.000000</td>\n",
       "      <td>1.000000</td>\n",
       "      <td>0.000000</td>\n",
       "      <td>0.000000</td>\n",
       "      <td>0.000000</td>\n",
       "      <td>0.000000</td>\n",
       "      <td>1.000000</td>\n",
       "      <td>18.000000</td>\n",
       "      <td>1.000000</td>\n",
       "      <td>1.000000</td>\n",
       "    </tr>\n",
       "    <tr>\n",
       "      <th>25%</th>\n",
       "      <td>5.000000</td>\n",
       "      <td>1.000000</td>\n",
       "      <td>2.000000</td>\n",
       "      <td>0.000000</td>\n",
       "      <td>0.000000</td>\n",
       "      <td>1.000000</td>\n",
       "      <td>0.000000</td>\n",
       "      <td>2.000000</td>\n",
       "      <td>45.000000</td>\n",
       "      <td>1.000000</td>\n",
       "      <td>1.000000</td>\n",
       "    </tr>\n",
       "    <tr>\n",
       "      <th>50%</th>\n",
       "      <td>10.000000</td>\n",
       "      <td>2.000000</td>\n",
       "      <td>2.000000</td>\n",
       "      <td>1.000000</td>\n",
       "      <td>1.000000</td>\n",
       "      <td>1.000000</td>\n",
       "      <td>0.000000</td>\n",
       "      <td>3.000000</td>\n",
       "      <td>61.000000</td>\n",
       "      <td>1.000000</td>\n",
       "      <td>1.000000</td>\n",
       "    </tr>\n",
       "    <tr>\n",
       "      <th>75%</th>\n",
       "      <td>16.000000</td>\n",
       "      <td>2.000000</td>\n",
       "      <td>2.000000</td>\n",
       "      <td>1.000000</td>\n",
       "      <td>1.000000</td>\n",
       "      <td>1.000000</td>\n",
       "      <td>1.000000</td>\n",
       "      <td>4.000000</td>\n",
       "      <td>71.000000</td>\n",
       "      <td>3.000000</td>\n",
       "      <td>2.000000</td>\n",
       "    </tr>\n",
       "    <tr>\n",
       "      <th>max</th>\n",
       "      <td>26.000000</td>\n",
       "      <td>3.000000</td>\n",
       "      <td>3.000000</td>\n",
       "      <td>1.000000</td>\n",
       "      <td>3.000000</td>\n",
       "      <td>1.000000</td>\n",
       "      <td>1.000000</td>\n",
       "      <td>5.000000</td>\n",
       "      <td>111.000000</td>\n",
       "      <td>5.000000</td>\n",
       "      <td>5.000000</td>\n",
       "    </tr>\n",
       "  </tbody>\n",
       "</table>\n",
       "</div>"
      ],
      "text/plain": [
       "       code_hospital     Code_ward      SIZE_new  Miyun_or_Electiv  \\\n",
       "count   10916.000000  10916.000000  10916.000000      10916.000000   \n",
       "mean       10.796152      1.779040      2.021894          0.664987   \n",
       "std         6.743416      0.736276      0.661746          0.472017   \n",
       "min         1.000000      1.000000      1.000000          0.000000   \n",
       "25%         5.000000      1.000000      2.000000          0.000000   \n",
       "50%        10.000000      2.000000      2.000000          1.000000   \n",
       "75%        16.000000      2.000000      2.000000          1.000000   \n",
       "max        26.000000      3.000000      3.000000          1.000000   \n",
       "\n",
       "             CHOICE     corridor1     CHRONIC_2  HEALTH_STATUS     AGE_TODAY  \\\n",
       "count  10916.000000  10916.000000  10916.000000   10916.000000  10916.000000   \n",
       "mean       0.879168      0.896299      0.496977       3.327501     57.784628   \n",
       "std        0.879221      0.304886      0.500014       1.259037     17.988378   \n",
       "min        0.000000      0.000000      0.000000       1.000000     18.000000   \n",
       "25%        0.000000      1.000000      0.000000       2.000000     45.000000   \n",
       "50%        1.000000      1.000000      0.000000       3.000000     61.000000   \n",
       "75%        1.000000      1.000000      1.000000       4.000000     71.000000   \n",
       "max        3.000000      1.000000      1.000000       5.000000    111.000000   \n",
       "\n",
       "        KUPAT_HOLIM        baalut  \n",
       "count  10916.000000  10916.000000  \n",
       "mean       1.899872      1.831898  \n",
       "std        1.269883      1.164466  \n",
       "min        1.000000      1.000000  \n",
       "25%        1.000000      1.000000  \n",
       "50%        1.000000      1.000000  \n",
       "75%        3.000000      2.000000  \n",
       "max        5.000000      5.000000  "
      ]
     },
     "execution_count": 27,
     "metadata": {},
     "output_type": "execute_result"
    }
   ],
   "source": [
    "df.describe()"
   ]
  },
  {
   "attachments": {},
   "cell_type": "markdown",
   "metadata": {},
   "source": [
    "### 3.6 Check vaiours categories of data and clean it"
   ]
  },
  {
   "cell_type": "code",
   "execution_count": 28,
   "metadata": {},
   "outputs": [
    {
     "data": {
      "text/plain": [
       "1    5958\n",
       "0    3745\n",
       "3    1213\n",
       "Name: CHOICE, dtype: int64"
      ]
     },
     "execution_count": 28,
     "metadata": {},
     "output_type": "execute_result"
    }
   ],
   "source": [
    "# From the unique value, i found that there is improper data in choice\n",
    "df['CHOICE'].value_counts()"
   ]
  },
  {
   "attachments": {},
   "cell_type": "markdown",
   "metadata": {},
   "source": [
    "There was value '3'->improper data that needs to be corrected. We can'y able to use the mode because it will change the data distribution towards one side.\n",
    "- so iam going to use forward filling"
   ]
  },
  {
   "cell_type": "code",
   "execution_count": 29,
   "metadata": {},
   "outputs": [],
   "source": [
    "df['CHOICE'] = df['CHOICE'].mask(df['CHOICE'].isin([3]), df['CHOICE'].replace(3,np.nan).ffill())"
   ]
  },
  {
   "cell_type": "code",
   "execution_count": 30,
   "metadata": {},
   "outputs": [
    {
     "data": {
      "text/plain": [
       "1.0    6711\n",
       "0.0    4203\n",
       "Name: CHOICE, dtype: int64"
      ]
     },
     "execution_count": 30,
     "metadata": {},
     "output_type": "execute_result"
    }
   ],
   "source": [
    "df['CHOICE'].value_counts()"
   ]
  },
  {
   "cell_type": "code",
   "execution_count": 31,
   "metadata": {},
   "outputs": [],
   "source": [
    "# From the unique value i found this also this seems like improper data\n",
    "df.loc[df['code_hospital']==2.70, 'code_hospital'] = 27"
   ]
  },
  {
   "cell_type": "code",
   "execution_count": 32,
   "metadata": {},
   "outputs": [
    {
     "data": {
      "text/plain": [
       "array([ 1.,  2.,  3.,  4.,  5.,  6.,  8.,  9., 10., 11., 12., 13., 14.,\n",
       "       15., 16., 17., 19., 20., 23., 24., 27.,  7., 26.])"
      ]
     },
     "execution_count": 32,
     "metadata": {},
     "output_type": "execute_result"
    }
   ],
   "source": [
    "df['code_hospital'].unique()"
   ]
  },
  {
   "cell_type": "code",
   "execution_count": 33,
   "metadata": {},
   "outputs": [],
   "source": [
    "# Changing the category of Choice from numeric to name of the hospital\n",
    "\n",
    "conditions = [\n",
    "    df['code_hospital'].eq(1), df['code_hospital'].eq(2), df['code_hospital'].eq(3), df['code_hospital'].eq(4), df['code_hospital'].eq(5),\n",
    "    df['code_hospital'].eq(6), df['code_hospital'].eq(7), df['code_hospital'].eq(8), df['code_hospital'].eq(9), df['code_hospital'].eq(10),\n",
    "    df['code_hospital'].eq(11), df['code_hospital'].eq(12), df['code_hospital'].eq(13), df['code_hospital'].eq(14), df['code_hospital'].eq(15),\n",
    "    df['code_hospital'].eq(16), df['code_hospital'].eq(17), df['code_hospital'].eq(18), df['code_hospital'].eq(19), df['code_hospital'].eq(20),\n",
    "    df['code_hospital'].eq(21), df['code_hospital'].eq(22), df['code_hospital'].eq(23), df['code_hospital'].eq(24), df['code_hospital'].eq(25),\n",
    "    df['code_hospital'].eq(26), df['code_hospital'].eq(27), df['code_hospital'].eq(28)\n",
    "]\n",
    "\n",
    "\n",
    "choices = ['Sheba', 'Rambam', 'Wolfson', 'Ziv', 'Hillel Yaffe', \n",
    "           'Galilee', 'Brazilian', 'Baruch padei', 'Ichilov', 'Bnei Zion', \n",
    "           'Beilinson', 'Soroka', 'Meir', 'Kaplan', 'Emek', \n",
    "           'Carmel', 'Hasharon', 'Yoseftal', 'Hadassah Ein Kerem', 'Hadassah Mount Scopus', \n",
    "           'Nazareth Hospital EMMS', 'The Holy Family', 'Shaare Zedek', 'Lenaido', 'Augusta Victoria', \n",
    "           'Mayanei Hayeshua', 'Shamir', 'Saint vincent de paul']\n",
    "\n",
    "\n",
    "df['code_hospital'] = np.select(conditions,choices,default=0)\n"
   ]
  },
  {
   "cell_type": "code",
   "execution_count": 34,
   "metadata": {},
   "outputs": [
    {
     "data": {
      "text/plain": [
       "זכר     6016\n",
       "נקבה    4900\n",
       "Name: Gender, dtype: int64"
      ]
     },
     "execution_count": 34,
     "metadata": {},
     "output_type": "execute_result"
    }
   ],
   "source": [
    "df['Gender'].value_counts()"
   ]
  },
  {
   "cell_type": "code",
   "execution_count": 35,
   "metadata": {},
   "outputs": [],
   "source": [
    "conditions = [df['Gender'].eq('זכר'), df['Gender'].eq('נקבה')]\n",
    "choices = ['M', 'F']\n",
    "df['Gender'] = np.select(conditions, choices, default=0)"
   ]
  },
  {
   "cell_type": "code",
   "execution_count": 36,
   "metadata": {},
   "outputs": [
    {
     "data": {
      "text/html": [
       "<div>\n",
       "<style scoped>\n",
       "    .dataframe tbody tr th:only-of-type {\n",
       "        vertical-align: middle;\n",
       "    }\n",
       "\n",
       "    .dataframe tbody tr th {\n",
       "        vertical-align: top;\n",
       "    }\n",
       "\n",
       "    .dataframe thead th {\n",
       "        text-align: right;\n",
       "    }\n",
       "</style>\n",
       "<table border=\"1\" class=\"dataframe\">\n",
       "  <thead>\n",
       "    <tr style=\"text-align: right;\">\n",
       "      <th></th>\n",
       "      <th>code_hospital</th>\n",
       "      <th>Gender</th>\n",
       "      <th>Code_ward</th>\n",
       "      <th>SIZE_new</th>\n",
       "      <th>Miyun_or_Electiv</th>\n",
       "      <th>CHOICE</th>\n",
       "      <th>corridor1</th>\n",
       "      <th>CHRONIC_2</th>\n",
       "      <th>HEALTH_STATUS</th>\n",
       "      <th>AGE_TODAY</th>\n",
       "      <th>KUPAT_HOLIM</th>\n",
       "      <th>baalut</th>\n",
       "    </tr>\n",
       "  </thead>\n",
       "  <tbody>\n",
       "    <tr>\n",
       "      <th>3563</th>\n",
       "      <td>Rambam</td>\n",
       "      <td>F</td>\n",
       "      <td>2</td>\n",
       "      <td>3</td>\n",
       "      <td>0.0</td>\n",
       "      <td>1.0</td>\n",
       "      <td>1</td>\n",
       "      <td>1.0</td>\n",
       "      <td>5.0</td>\n",
       "      <td>66</td>\n",
       "      <td>2.0</td>\n",
       "      <td>1</td>\n",
       "    </tr>\n",
       "    <tr>\n",
       "      <th>6592</th>\n",
       "      <td>Beilinson</td>\n",
       "      <td>F</td>\n",
       "      <td>3</td>\n",
       "      <td>3</td>\n",
       "      <td>1.0</td>\n",
       "      <td>1.0</td>\n",
       "      <td>1</td>\n",
       "      <td>0.0</td>\n",
       "      <td>5.0</td>\n",
       "      <td>34</td>\n",
       "      <td>1.0</td>\n",
       "      <td>2</td>\n",
       "    </tr>\n",
       "    <tr>\n",
       "      <th>4485</th>\n",
       "      <td>Hillel Yaffe</td>\n",
       "      <td>M</td>\n",
       "      <td>3</td>\n",
       "      <td>2</td>\n",
       "      <td>1.0</td>\n",
       "      <td>1.0</td>\n",
       "      <td>1</td>\n",
       "      <td>0.0</td>\n",
       "      <td>1.0</td>\n",
       "      <td>48</td>\n",
       "      <td>4.0</td>\n",
       "      <td>1</td>\n",
       "    </tr>\n",
       "    <tr>\n",
       "      <th>2860</th>\n",
       "      <td>Shaare Zedek</td>\n",
       "      <td>M</td>\n",
       "      <td>3</td>\n",
       "      <td>2</td>\n",
       "      <td>1.0</td>\n",
       "      <td>1.0</td>\n",
       "      <td>1</td>\n",
       "      <td>0.0</td>\n",
       "      <td>3.0</td>\n",
       "      <td>62</td>\n",
       "      <td>1.0</td>\n",
       "      <td>5</td>\n",
       "    </tr>\n",
       "    <tr>\n",
       "      <th>878</th>\n",
       "      <td>Bnei Zion</td>\n",
       "      <td>F</td>\n",
       "      <td>1</td>\n",
       "      <td>2</td>\n",
       "      <td>1.0</td>\n",
       "      <td>1.0</td>\n",
       "      <td>1</td>\n",
       "      <td>0.0</td>\n",
       "      <td>2.0</td>\n",
       "      <td>42</td>\n",
       "      <td>1.0</td>\n",
       "      <td>1</td>\n",
       "    </tr>\n",
       "  </tbody>\n",
       "</table>\n",
       "</div>"
      ],
      "text/plain": [
       "     code_hospital Gender  Code_ward  SIZE_new  Miyun_or_Electiv  CHOICE  \\\n",
       "3563        Rambam      F          2         3               0.0     1.0   \n",
       "6592     Beilinson      F          3         3               1.0     1.0   \n",
       "4485  Hillel Yaffe      M          3         2               1.0     1.0   \n",
       "2860  Shaare Zedek      M          3         2               1.0     1.0   \n",
       "878      Bnei Zion      F          1         2               1.0     1.0   \n",
       "\n",
       "      corridor1  CHRONIC_2  HEALTH_STATUS  AGE_TODAY  KUPAT_HOLIM  baalut  \n",
       "3563          1        1.0            5.0         66          2.0       1  \n",
       "6592          1        0.0            5.0         34          1.0       2  \n",
       "4485          1        0.0            1.0         48          4.0       1  \n",
       "2860          1        0.0            3.0         62          1.0       5  \n",
       "878           1        0.0            2.0         42          1.0       1  "
      ]
     },
     "execution_count": 36,
     "metadata": {},
     "output_type": "execute_result"
    }
   ],
   "source": [
    "df.sample(5)"
   ]
  },
  {
   "cell_type": "code",
   "execution_count": 37,
   "metadata": {},
   "outputs": [
    {
     "name": "stdout",
     "output_type": "stream",
     "text": [
      "<class 'pandas.core.frame.DataFrame'>\n",
      "Int64Index: 10916 entries, 0 to 11098\n",
      "Data columns (total 12 columns):\n",
      " #   Column            Non-Null Count  Dtype  \n",
      "---  ------            --------------  -----  \n",
      " 0   code_hospital     10916 non-null  object \n",
      " 1   Gender            10916 non-null  object \n",
      " 2   Code_ward         10916 non-null  int64  \n",
      " 3   SIZE_new          10916 non-null  int64  \n",
      " 4   Miyun_or_Electiv  10916 non-null  float64\n",
      " 5   CHOICE            10914 non-null  float64\n",
      " 6   corridor1         10916 non-null  int64  \n",
      " 7   CHRONIC_2         10916 non-null  float64\n",
      " 8   HEALTH_STATUS     10916 non-null  float64\n",
      " 9   AGE_TODAY         10916 non-null  int64  \n",
      " 10  KUPAT_HOLIM       10916 non-null  float64\n",
      " 11  baalut            10916 non-null  int64  \n",
      "dtypes: float64(5), int64(5), object(2)\n",
      "memory usage: 1.1+ MB\n"
     ]
    }
   ],
   "source": [
    "df.info()"
   ]
  },
  {
   "attachments": {},
   "cell_type": "markdown",
   "metadata": {},
   "source": [
    "### THese numerical rows needs to be converted in to categorical object\n",
    "\n",
    "- SIZE_new\n",
    "- Code_ward\n",
    "- Miyun_or_Electiv\n",
    "- HEALTH_STATUS\n"
   ]
  },
  {
   "cell_type": "markdown",
   "metadata": {},
   "source": []
  },
  {
   "cell_type": "code",
   "execution_count": 38,
   "metadata": {},
   "outputs": [
    {
     "data": {
      "text/plain": [
       "array([3, 2, 1])"
      ]
     },
     "execution_count": 38,
     "metadata": {},
     "output_type": "execute_result"
    }
   ],
   "source": [
    "df['SIZE_new'].unique()"
   ]
  },
  {
   "cell_type": "code",
   "execution_count": 40,
   "metadata": {},
   "outputs": [],
   "source": [
    "conditions = [df['SIZE_new'].eq(1), df['SIZE_new'].eq(2), df['SIZE_new'].eq(3)]\n",
    "choices = ['small', 'medium', 'large']\n",
    "df['SIZE_new'] = np.select(conditions, choices, default=0)"
   ]
  },
  {
   "cell_type": "code",
   "execution_count": 43,
   "metadata": {},
   "outputs": [
    {
     "data": {
      "text/plain": [
       "array([1., 0.])"
      ]
     },
     "execution_count": 43,
     "metadata": {},
     "output_type": "execute_result"
    }
   ],
   "source": [
    "df['Miyun_or_Electiv'].unique()"
   ]
  },
  {
   "cell_type": "code",
   "execution_count": 44,
   "metadata": {},
   "outputs": [],
   "source": [
    "conditions = [df['Miyun_or_Electiv'].eq(0), df['Miyun_or_Electiv'].eq(1)]\n",
    "choices = ['Elective', 'Emergency']\n",
    "df['Miyun_or_Electiv'] = np.select(conditions,choices)"
   ]
  },
  {
   "cell_type": "code",
   "execution_count": 45,
   "metadata": {},
   "outputs": [
    {
     "data": {
      "text/plain": [
       "array([1, 2, 3])"
      ]
     },
     "execution_count": 45,
     "metadata": {},
     "output_type": "execute_result"
    }
   ],
   "source": [
    "df['Code_ward'].unique()"
   ]
  },
  {
   "cell_type": "code",
   "execution_count": 46,
   "metadata": {},
   "outputs": [],
   "source": [
    "conditions = [df['Code_ward'].eq(1), df['Code_ward'].eq(2), df['Code_ward'].eq(3)]\n",
    "choices = ['internal_affair', 'surgery', 'others']\n",
    "df['Code_ward'] = np.select(conditions,choices)"
   ]
  },
  {
   "cell_type": "code",
   "execution_count": 52,
   "metadata": {},
   "outputs": [
    {
     "data": {
      "text/plain": [
       "array([5., 2., 4., 3., 1.])"
      ]
     },
     "execution_count": 52,
     "metadata": {},
     "output_type": "execute_result"
    }
   ],
   "source": [
    "df['HEALTH_STATUS'].unique()"
   ]
  },
  {
   "cell_type": "code",
   "execution_count": 53,
   "metadata": {},
   "outputs": [],
   "source": [
    "conditions = [df['HEALTH_STATUS'].eq(1), df['HEALTH_STATUS'].eq(2), df['HEALTH_STATUS'].eq(3), df['HEALTH_STATUS'].eq(4), df['HEALTH_STATUS'].eq(5)]\n",
    "choices = ['Excellent', 'very good', 'good', 'bad', 'very bad']\n",
    "df['HEALTH_STATUS'] = np.select(conditions, choices)"
   ]
  },
  {
   "cell_type": "code",
   "execution_count": 54,
   "metadata": {},
   "outputs": [
    {
     "data": {
      "text/html": [
       "<div>\n",
       "<style scoped>\n",
       "    .dataframe tbody tr th:only-of-type {\n",
       "        vertical-align: middle;\n",
       "    }\n",
       "\n",
       "    .dataframe tbody tr th {\n",
       "        vertical-align: top;\n",
       "    }\n",
       "\n",
       "    .dataframe thead th {\n",
       "        text-align: right;\n",
       "    }\n",
       "</style>\n",
       "<table border=\"1\" class=\"dataframe\">\n",
       "  <thead>\n",
       "    <tr style=\"text-align: right;\">\n",
       "      <th></th>\n",
       "      <th>code_hospital</th>\n",
       "      <th>Gender</th>\n",
       "      <th>Code_ward</th>\n",
       "      <th>SIZE_new</th>\n",
       "      <th>Miyun_or_Electiv</th>\n",
       "      <th>CHOICE</th>\n",
       "      <th>corridor1</th>\n",
       "      <th>CHRONIC_2</th>\n",
       "      <th>HEALTH_STATUS</th>\n",
       "      <th>AGE_TODAY</th>\n",
       "      <th>KUPAT_HOLIM</th>\n",
       "      <th>baalut</th>\n",
       "    </tr>\n",
       "  </thead>\n",
       "  <tbody>\n",
       "    <tr>\n",
       "      <th>253</th>\n",
       "      <td>Ichilov</td>\n",
       "      <td>F</td>\n",
       "      <td>surgery</td>\n",
       "      <td>large</td>\n",
       "      <td>Emergency</td>\n",
       "      <td>1.0</td>\n",
       "      <td>1</td>\n",
       "      <td>1.0</td>\n",
       "      <td>bad</td>\n",
       "      <td>79</td>\n",
       "      <td>3.0</td>\n",
       "      <td>1</td>\n",
       "    </tr>\n",
       "    <tr>\n",
       "      <th>1280</th>\n",
       "      <td>Ziv</td>\n",
       "      <td>M</td>\n",
       "      <td>internal_affair</td>\n",
       "      <td>small</td>\n",
       "      <td>Emergency</td>\n",
       "      <td>0.0</td>\n",
       "      <td>1</td>\n",
       "      <td>0.0</td>\n",
       "      <td>very good</td>\n",
       "      <td>59</td>\n",
       "      <td>1.0</td>\n",
       "      <td>1</td>\n",
       "    </tr>\n",
       "    <tr>\n",
       "      <th>3942</th>\n",
       "      <td>Wolfson</td>\n",
       "      <td>F</td>\n",
       "      <td>surgery</td>\n",
       "      <td>medium</td>\n",
       "      <td>Emergency</td>\n",
       "      <td>0.0</td>\n",
       "      <td>1</td>\n",
       "      <td>0.0</td>\n",
       "      <td>very good</td>\n",
       "      <td>25</td>\n",
       "      <td>1.0</td>\n",
       "      <td>1</td>\n",
       "    </tr>\n",
       "    <tr>\n",
       "      <th>4756</th>\n",
       "      <td>Galilee</td>\n",
       "      <td>M</td>\n",
       "      <td>internal_affair</td>\n",
       "      <td>medium</td>\n",
       "      <td>Emergency</td>\n",
       "      <td>1.0</td>\n",
       "      <td>1</td>\n",
       "      <td>1.0</td>\n",
       "      <td>bad</td>\n",
       "      <td>69</td>\n",
       "      <td>1.0</td>\n",
       "      <td>1</td>\n",
       "    </tr>\n",
       "    <tr>\n",
       "      <th>1153</th>\n",
       "      <td>Rambam</td>\n",
       "      <td>M</td>\n",
       "      <td>surgery</td>\n",
       "      <td>large</td>\n",
       "      <td>Emergency</td>\n",
       "      <td>1.0</td>\n",
       "      <td>0</td>\n",
       "      <td>0.0</td>\n",
       "      <td>good</td>\n",
       "      <td>20</td>\n",
       "      <td>1.0</td>\n",
       "      <td>1</td>\n",
       "    </tr>\n",
       "    <tr>\n",
       "      <th>718</th>\n",
       "      <td>Wolfson</td>\n",
       "      <td>M</td>\n",
       "      <td>others</td>\n",
       "      <td>medium</td>\n",
       "      <td>Elective</td>\n",
       "      <td>1.0</td>\n",
       "      <td>0</td>\n",
       "      <td>1.0</td>\n",
       "      <td>very bad</td>\n",
       "      <td>77</td>\n",
       "      <td>4.0</td>\n",
       "      <td>1</td>\n",
       "    </tr>\n",
       "    <tr>\n",
       "      <th>7614</th>\n",
       "      <td>Meir</td>\n",
       "      <td>F</td>\n",
       "      <td>internal_affair</td>\n",
       "      <td>medium</td>\n",
       "      <td>Emergency</td>\n",
       "      <td>0.0</td>\n",
       "      <td>1</td>\n",
       "      <td>1.0</td>\n",
       "      <td>bad</td>\n",
       "      <td>83</td>\n",
       "      <td>1.0</td>\n",
       "      <td>2</td>\n",
       "    </tr>\n",
       "    <tr>\n",
       "      <th>2676</th>\n",
       "      <td>Hadassah Mount Scopus</td>\n",
       "      <td>F</td>\n",
       "      <td>internal_affair</td>\n",
       "      <td>small</td>\n",
       "      <td>Emergency</td>\n",
       "      <td>0.0</td>\n",
       "      <td>1</td>\n",
       "      <td>0.0</td>\n",
       "      <td>very good</td>\n",
       "      <td>65</td>\n",
       "      <td>3.0</td>\n",
       "      <td>3</td>\n",
       "    </tr>\n",
       "    <tr>\n",
       "      <th>1705</th>\n",
       "      <td>Galilee</td>\n",
       "      <td>M</td>\n",
       "      <td>internal_affair</td>\n",
       "      <td>medium</td>\n",
       "      <td>Emergency</td>\n",
       "      <td>1.0</td>\n",
       "      <td>0</td>\n",
       "      <td>1.0</td>\n",
       "      <td>very good</td>\n",
       "      <td>82</td>\n",
       "      <td>1.0</td>\n",
       "      <td>1</td>\n",
       "    </tr>\n",
       "    <tr>\n",
       "      <th>8845</th>\n",
       "      <td>Hasharon</td>\n",
       "      <td>F</td>\n",
       "      <td>others</td>\n",
       "      <td>small</td>\n",
       "      <td>Emergency</td>\n",
       "      <td>0.0</td>\n",
       "      <td>1</td>\n",
       "      <td>1.0</td>\n",
       "      <td>good</td>\n",
       "      <td>67</td>\n",
       "      <td>1.0</td>\n",
       "      <td>2</td>\n",
       "    </tr>\n",
       "  </tbody>\n",
       "</table>\n",
       "</div>"
      ],
      "text/plain": [
       "              code_hospital Gender        Code_ward SIZE_new Miyun_or_Electiv  \\\n",
       "253                 Ichilov      F          surgery    large        Emergency   \n",
       "1280                    Ziv      M  internal_affair    small        Emergency   \n",
       "3942                Wolfson      F          surgery   medium        Emergency   \n",
       "4756                Galilee      M  internal_affair   medium        Emergency   \n",
       "1153                 Rambam      M          surgery    large        Emergency   \n",
       "718                 Wolfson      M           others   medium         Elective   \n",
       "7614                   Meir      F  internal_affair   medium        Emergency   \n",
       "2676  Hadassah Mount Scopus      F  internal_affair    small        Emergency   \n",
       "1705                Galilee      M  internal_affair   medium        Emergency   \n",
       "8845               Hasharon      F           others    small        Emergency   \n",
       "\n",
       "      CHOICE  corridor1  CHRONIC_2 HEALTH_STATUS  AGE_TODAY  KUPAT_HOLIM  \\\n",
       "253      1.0          1        1.0           bad         79          3.0   \n",
       "1280     0.0          1        0.0     very good         59          1.0   \n",
       "3942     0.0          1        0.0     very good         25          1.0   \n",
       "4756     1.0          1        1.0           bad         69          1.0   \n",
       "1153     1.0          0        0.0          good         20          1.0   \n",
       "718      1.0          0        1.0      very bad         77          4.0   \n",
       "7614     0.0          1        1.0           bad         83          1.0   \n",
       "2676     0.0          1        0.0     very good         65          3.0   \n",
       "1705     1.0          0        1.0     very good         82          1.0   \n",
       "8845     0.0          1        1.0          good         67          1.0   \n",
       "\n",
       "      baalut  \n",
       "253        1  \n",
       "1280       1  \n",
       "3942       1  \n",
       "4756       1  \n",
       "1153       1  \n",
       "718        1  \n",
       "7614       2  \n",
       "2676       3  \n",
       "1705       1  \n",
       "8845       2  "
      ]
     },
     "execution_count": 54,
     "metadata": {},
     "output_type": "execute_result"
    }
   ],
   "source": [
    "df.sample(10)"
   ]
  },
  {
   "cell_type": "code",
   "execution_count": 55,
   "metadata": {},
   "outputs": [],
   "source": [
    "df.to_csv('hospital_satisfaction_new.csv')"
   ]
  },
  {
   "cell_type": "markdown",
   "metadata": {},
   "source": [
    "# Graph plots starts here"
   ]
  },
  {
   "cell_type": "code",
   "execution_count": 57,
   "metadata": {},
   "outputs": [
    {
     "data": {
      "image/png": "[encoded data removed]",
      "text/plain": [
       "<Figure size 1300x700 with 1 Axes>"
      ]
     },
     "metadata": {},
     "output_type": "display_data"
    }
   ],
   "source": [
    "plt.figure(figsize=(13,7))\n",
    "graph = sns.countplot(y='code_hospital', data=df, hue='SIZE_new', dodge=False, palette='GnBu_r')\n",
    "graph;"
   ]
  },
  {
   "cell_type": "code",
   "execution_count": 58,
   "metadata": {},
   "outputs": [
    {
     "data": {
      "image/png": "[encoded data removed]",
      "text/plain": [
       "<Figure size 640x480 with 1 Axes>"
      ]
     },
     "metadata": {},
     "output_type": "display_data"
    }
   ],
   "source": [
    "graph = sns.countplot(x='Code_ward', data=df, palette='GnBu_r')\n",
    "graph.bar_label(graph.containers[0])\n",
    "graph.get_yaxis().set_visible(False)\n",
    "graph.spines['top'].set_visible(False)\n",
    "graph.spines['right'].set_visible(False)\n",
    "graph.spines['left'].set_visible(False)"
   ]
  },
  {
   "cell_type": "code",
   "execution_count": 59,
   "metadata": {},
   "outputs": [
    {
     "data": {
      "image/png": "[encoded data removed]",
      "text/plain": [
       "<Figure size 640x480 with 1 Axes>"
      ]
     },
     "metadata": {},
     "output_type": "display_data"
    }
   ],
   "source": [
    "graph = sns.violinplot(x=df['CHRONIC_2'], y=df['AGE_TODAY'])"
   ]
  },
  {
   "attachments": {},
   "cell_type": "markdown",
   "metadata": {},
   "source": [
    "Translating the questions and using only important questions for graph plotting\n"
   ]
  },
  {
   "attachments": {},
   "cell_type": "markdown",
   "metadata": {},
   "source": [
    "1st imp qn found :\n",
    "To what extent did you feel that the staff treating you at the hospital..."
   ]
  },
  {
   "cell_type": "code",
   "execution_count": 89,
   "metadata": {},
   "outputs": [
    {
     "data": {
      "text/plain": [
       "<Axes: xlabel='count', ylabel='Q13'>"
      ]
     },
     "execution_count": 89,
     "metadata": {},
     "output_type": "execute_result"
    },
    {
     "data": {
      "image/png": "[encoded data removed]",
      "text/plain": [
       "<Figure size 800x800 with 1 Axes>"
      ]
     },
     "metadata": {},
     "output_type": "display_data"
    }
   ],
   "source": [
    "plt.figure(figsize=(8,8))\n",
    "sns.countplot(y=df_qns['Q13'])"
   ]
  },
  {
   "attachments": {},
   "cell_type": "markdown",
   "metadata": {},
   "source": [
    "### It shows that atmost maximum patients are satisfied by the hospitality given by the staff"
   ]
  },
  {
   "attachments": {},
   "cell_type": "markdown",
   "metadata": {},
   "source": [
    "2nd imp Qn found:\n",
    "To what extent were the explanations given to you during the hospitalization initiated by the department staff?"
   ]
  },
  {
   "cell_type": "code",
   "execution_count": 61,
   "metadata": {},
   "outputs": [
    {
     "data": {
      "image/png": "[encoded data removed]",
      "text/plain": [
       "<Figure size 800x800 with 1 Axes>"
      ]
     },
     "metadata": {},
     "output_type": "display_data"
    }
   ],
   "source": [
    "plt.figure(figsize=(8,8))\n",
    "graph = sns.countplot(y=df_qns['Q16'])\n",
    "graph.bar_label(graph.containers[0])\n",
    "graph.get_xaxis().set_visible(False)\n",
    "graph.spines['top'].set_visible(False)\n",
    "graph.spines['right'].set_visible(False)\n",
    "graph.spines['bottom'].set_visible(False)\n",
    "graph;"
   ]
  },
  {
   "attachments": {},
   "cell_type": "markdown",
   "metadata": {},
   "source": [
    "### It shows that maximum patients siad that upto very large extent "
   ]
  },
  {
   "attachments": {},
   "cell_type": "markdown",
   "metadata": {},
   "source": [
    "3rd imp Qn found :\n",
    "To what extent did you feel during the hospitalization that you were treated in good hands?"
   ]
  },
  {
   "cell_type": "code",
   "execution_count": 62,
   "metadata": {},
   "outputs": [
    {
     "data": {
      "text/plain": [
       "<Axes: xlabel='count', ylabel='Q24'>"
      ]
     },
     "execution_count": 62,
     "metadata": {},
     "output_type": "execute_result"
    },
    {
     "data": {
      "image/png": "[encoded data removed]",
      "text/plain": [
       "<Figure size 640x480 with 1 Axes>"
      ]
     },
     "metadata": {},
     "output_type": "display_data"
    }
   ],
   "source": [
    "sns.countplot(y=df_qns['Q24'])"
   ]
  },
  {
   "attachments": {},
   "cell_type": "markdown",
   "metadata": {},
   "source": [
    "It shows that upto very large extents the patients feel that they are treated in good hands"
   ]
  },
  {
   "cell_type": "markdown",
   "metadata": {},
   "source": []
  }
 ],
 "metadata": {
  "kernelspec": {
   "display_name": "ML",
   "language": "python",
   "name": "python3"
  },
  "language_info": {
   "codemirror_mode": {
    "name": "ipython",
    "version": 3
   },
   "file_extension": ".py",
   "mimetype": "text/x-python",
   "name": "python",
   "nbconvert_exporter": "python",
   "pygments_lexer": "ipython3",
   "version": "3.8.10"
  },
  "orig_nbformat": 4
 },
 "nbformat": 4,
 "nbformat_minor": 2
}
